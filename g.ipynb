{
 "cells": [
  {
   "cell_type": "code",
   "execution_count": 84,
   "metadata": {},
   "outputs": [
    {
     "name": "stdout",
     "output_type": "stream",
     "text": [
      "(800000, 2)\n"
     ]
    },
    {
     "data": {
      "image/png": "[encoded data removed]",
      "text/plain": [
       "<Figure size 640x480 with 1 Axes>"
      ]
     },
     "metadata": {},
     "output_type": "display_data"
    }
   ],
   "source": [
    "import gymnasium as gym\n",
    "import matplotlib.pyplot as plt\n",
    "import numpy as np\n",
    "\n",
    "env_id = \"PointMaze_Large_Diverse_G-v3\"\n",
    "env = gym.make(env_id)\n",
    "coords = []\n",
    "for _ in range(1000):\n",
    "    obs, info = env.reset()\n",
    "\n",
    "    while True:\n",
    "        obs, reward, terminated, truncated, info = env.step(env.action_space.sample())\n",
    "        # print(obs)\n",
    "        first_two_coords = obs['observation'][:2]\n",
    "        coords.append(first_two_coords)\n",
    "        # print(\"x, y координаты:\", first_two_coords)\n",
    "        if (terminated) or (truncated):\n",
    "            break\n",
    "\n",
    "size = np.array([7, 10])\n",
    "coords_array = np.array(coords)\n",
    "coords_array[:, 0] += size[1] / 2\n",
    "\n",
    "print(coords_array.shape)\n",
    "\n",
    "visitation = np.zeros((7, 10))\n",
    "for (x, y) in coords_array:\n",
    "    x, y = int(x), int(y)\n",
    "    visitation[y, x] += 1\n",
    "\n",
    "plt.imshow(np.log(visitation + 1), origin='lower')\n",
    "plt.show()"
   ]
  }
 ],
 "metadata": {
  "kernelspec": {
   "display_name": "Python 3",
   "language": "python",
   "name": "python3"
  },
  "language_info": {
   "codemirror_mode": {
    "name": "ipython",
    "version": 3
   },
   "file_extension": ".py",
   "mimetype": "text/x-python",
   "name": "python",
   "nbconvert_exporter": "python",
   "pygments_lexer": "ipython3",
   "version": "3.10.2"
  }
 },
 "nbformat": 4,
 "nbformat_minor": 2
}
